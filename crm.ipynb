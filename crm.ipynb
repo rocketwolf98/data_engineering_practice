{
 "cells": [
  {
   "cell_type": "markdown",
   "id": "88299e7d",
   "metadata": {},
   "source": [
    "Importing Packages"
   ]
  },
  {
   "cell_type": "code",
   "execution_count": 1,
   "id": "6edaaaae",
   "metadata": {},
   "outputs": [],
   "source": [
    "import pandas as pd\n",
    "import numpy as np"
   ]
  },
  {
   "cell_type": "markdown",
   "id": "6963f264",
   "metadata": {},
   "source": [
    "Load and Read CSV data"
   ]
  },
  {
   "cell_type": "code",
   "execution_count": 4,
   "id": "a69ba52d",
   "metadata": {},
   "outputs": [],
   "source": [
    "#for source crm\n",
    "cust_crm = pd.read_csv('./source_crm/cust_info.csv')\n",
    "prd_crm = pd.read_csv('./source_crm/prd_info.csv')\n",
    "sales_crm= pd.read_csv('./source_crm/sales_details.csv')"
   ]
  },
  {
   "cell_type": "code",
   "execution_count": 12,
   "id": "5aecf658",
   "metadata": {},
   "outputs": [],
   "source": [
    "#for source erp\n",
    "cust_erp = pd.read_csv('./source_erp/CUST_AZ12.csv')\n",
    "loc_erp = pd.read_csv('./source_erp/LOC_A101.csv')\n",
    "px_cat_erp = pd.read_csv('./source_erp/PX_CAT_G1V2.csv')"
   ]
  },
  {
   "cell_type": "markdown",
   "id": "f056564b",
   "metadata": {},
   "source": [
    "Read per CRM"
   ]
  },
  {
   "cell_type": "code",
   "execution_count": 15,
   "id": "8ea15e28",
   "metadata": {},
   "outputs": [
    {
     "name": "stdout",
     "output_type": "stream",
     "text": [
      "    cst_id     cst_key cst_firstname cst_lastname cst_marital_status cst_gndr  \\\n",
      "0  11000.0  AW00011000           Jon        Yang                   M        M   \n",
      "1  11001.0  AW00011001        Eugene      Huang                    S        M   \n",
      "2  11002.0  AW00011002         Ruben       Torres                  M        M   \n",
      "3  11003.0  AW00011003       Christy          Zhu                  S        F   \n",
      "4  11004.0  AW00011004     Elizabeth      Johnson                  S        F   \n",
      "\n",
      "  cst_create_date  \n",
      "0      2025-10-06  \n",
      "1      2025-10-06  \n",
      "2      2025-10-06  \n",
      "3      2025-10-06  \n",
      "4      2025-10-06  \n",
      "(18494, 7)\n"
     ]
    }
   ],
   "source": [
    "print(cust_crm.head())\n",
    "print(cust_crm.shape)"
   ]
  },
  {
   "cell_type": "code",
   "execution_count": 16,
   "id": "1be43c69",
   "metadata": {},
   "outputs": [
    {
     "name": "stdout",
     "output_type": "stream",
     "text": [
      "   prd_id           prd_key                     prd_nm  prd_cost prd_line  \\\n",
      "0     210  CO-RF-FR-R92B-58  HL Road Frame - Black- 58       NaN       R    \n",
      "1     211  CO-RF-FR-R92R-58    HL Road Frame - Red- 58       NaN       R    \n",
      "2     212   AC-HE-HL-U509-R      Sport-100 Helmet- Red      12.0       S    \n",
      "3     213   AC-HE-HL-U509-R      Sport-100 Helmet- Red      14.0       S    \n",
      "4     214   AC-HE-HL-U509-R      Sport-100 Helmet- Red      13.0       S    \n",
      "\n",
      "  prd_start_dt  prd_end_dt  \n",
      "0   2003-07-01         NaN  \n",
      "1   2003-07-01         NaN  \n",
      "2   2011-07-01  2007-12-28  \n",
      "3   2012-07-01  2008-12-27  \n",
      "4   2013-07-01         NaN  \n",
      "(397, 7)\n"
     ]
    }
   ],
   "source": [
    "print(prd_crm.head())\n",
    "print(prd_crm.shape)"
   ]
  },
  {
   "cell_type": "code",
   "execution_count": 17,
   "id": "16a5f027",
   "metadata": {},
   "outputs": [
    {
     "name": "stdout",
     "output_type": "stream",
     "text": [
      "  sls_ord_num sls_prd_key  sls_cust_id  sls_order_dt  sls_ship_dt  sls_due_dt  \\\n",
      "0     SO43697  BK-R93R-62        21768      20101229     20110105    20110110   \n",
      "1     SO43698  BK-M82S-44        28389      20101229     20110105    20110110   \n",
      "2     SO43699  BK-M82S-44        25863      20101229     20110105    20110110   \n",
      "3     SO43700  BK-R50B-62        14501      20101229     20110105    20110110   \n",
      "4     SO43701  BK-M82S-44        11003      20101229     20110105    20110110   \n",
      "\n",
      "   sls_sales  sls_quantity  sls_price  \n",
      "0     3578.0             1     3578.0  \n",
      "1     3400.0             1     3400.0  \n",
      "2     3400.0             1     3400.0  \n",
      "3      699.0             1      699.0  \n",
      "4     3400.0             1     3400.0  \n",
      "(60398, 9)\n"
     ]
    }
   ],
   "source": [
    "print(sales_crm.head())\n",
    "print(sales_crm.shape)"
   ]
  },
  {
   "cell_type": "markdown",
   "id": "6c159e82",
   "metadata": {},
   "source": [
    "Read per ERP"
   ]
  },
  {
   "cell_type": "code",
   "execution_count": 18,
   "id": "7667e078",
   "metadata": {},
   "outputs": [
    {
     "name": "stdout",
     "output_type": "stream",
     "text": [
      "             CID       BDATE     GEN\n",
      "0  NASAW00011000  1971-10-06    Male\n",
      "1  NASAW00011001  1976-05-10    Male\n",
      "2  NASAW00011002  1971-02-09    Male\n",
      "3  NASAW00011003  1973-08-14  Female\n",
      "4  NASAW00011004  1979-08-05  Female\n",
      "(18484, 3)\n"
     ]
    }
   ],
   "source": [
    "print(cust_erp.head())\n",
    "print(cust_erp.shape)"
   ]
  },
  {
   "cell_type": "code",
   "execution_count": 19,
   "id": "2188d7a6",
   "metadata": {},
   "outputs": [
    {
     "name": "stdout",
     "output_type": "stream",
     "text": [
      "           CID      CNTRY\n",
      "0  AW-00011000  Australia\n",
      "1  AW-00011001  Australia\n",
      "2  AW-00011002  Australia\n",
      "3  AW-00011003  Australia\n",
      "4  AW-00011004  Australia\n",
      "(18484, 2)\n"
     ]
    }
   ],
   "source": [
    "print(loc_erp.head())\n",
    "print(loc_erp.shape)"
   ]
  },
  {
   "cell_type": "code",
   "execution_count": 21,
   "id": "0cbea0fa",
   "metadata": {},
   "outputs": [
    {
     "name": "stdout",
     "output_type": "stream",
     "text": [
      "       ID          CAT             SUBCAT MAINTENANCE\n",
      "0   AC_BR  Accessories         Bike Racks         Yes\n",
      "1   AC_BS  Accessories        Bike Stands          No\n",
      "2   AC_BC  Accessories  Bottles and Cages          No\n",
      "3   AC_CL  Accessories           Cleaners         Yes\n",
      "4   AC_FE  Accessories            Fenders          No\n",
      "5   AC_HE  Accessories            Helmets         Yes\n",
      "6   AC_HP  Accessories    Hydration Packs          No\n",
      "7   AC_LI  Accessories             Lights         Yes\n",
      "8   AC_LO  Accessories              Locks         Yes\n",
      "9   AC_PA  Accessories           Panniers          No\n",
      "10  AC_PU  Accessories              Pumps         Yes\n",
      "11  AC_TT  Accessories    Tires and Tubes         Yes\n",
      "12  BI_MB        Bikes     Mountain Bikes         Yes\n",
      "13  BI_RB        Bikes         Road Bikes         Yes\n",
      "14  BI_TB        Bikes      Touring Bikes         Yes\n",
      "15  CL_BS     Clothing         Bib-Shorts          No\n",
      "16  CL_CA     Clothing               Caps          No\n",
      "17  CL_GL     Clothing             Gloves          No\n",
      "18  CL_JE     Clothing            Jerseys          No\n",
      "19  CL_SH     Clothing             Shorts          No\n",
      "20  CL_SO     Clothing              Socks          No\n",
      "21  CL_TI     Clothing             Tights          No\n",
      "22  CL_VE     Clothing              Vests          No\n",
      "23  CO_BB   Components    Bottom Brackets         Yes\n",
      "24  CO_BR   Components             Brakes         Yes\n",
      "25  CO_CH   Components             Chains         Yes\n",
      "26  CO_CS   Components          Cranksets         Yes\n",
      "27  CO_DE   Components        Derailleurs         Yes\n",
      "28  CO_FO   Components              Forks         Yes\n",
      "29  CO_HB   Components         Handlebars          No\n",
      "30  CO_HS   Components           Headsets          No\n",
      "31  CO_MF   Components    Mountain Frames         Yes\n",
      "32  CO_PD   Components             Pedals          No\n",
      "33  CO_RF   Components        Road Frames         Yes\n",
      "34  CO_SA   Components            Saddles          No\n",
      "35  CO_TF   Components     Touring Frames         Yes\n",
      "36  CO_WH   Components             Wheels         Yes\n",
      "(37, 4)\n"
     ]
    }
   ],
   "source": [
    "print(px_cat_erp)\n",
    "print(px_cat_erp.shape)"
   ]
  },
  {
   "cell_type": "markdown",
   "id": "93a78775",
   "metadata": {},
   "source": [
    "Standardize IDs before parsing to Staging Area"
   ]
  },
  {
   "cell_type": "code",
   "execution_count": null,
   "id": "46d12085",
   "metadata": {},
   "outputs": [],
   "source": []
  }
 ],
 "metadata": {
  "kernelspec": {
   "display_name": "Python 3 (ipykernel)",
   "language": "python",
   "name": "python3"
  },
  "language_info": {
   "codemirror_mode": {
    "name": "ipython",
    "version": 3
   },
   "file_extension": ".py",
   "mimetype": "text/x-python",
   "name": "python",
   "nbconvert_exporter": "python",
   "pygments_lexer": "ipython3",
   "version": "3.13.3"
  }
 },
 "nbformat": 4,
 "nbformat_minor": 5
}
